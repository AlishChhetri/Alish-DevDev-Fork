{
  "cells": [
    {
      "cell_type": "raw",
      "metadata": {},
      "source": [
        "---\n",
        "title: 'Sorry, this Page is Not Available!'\n",
        "echo: true\n",
        "title-block-style: default\n",
        "title-block-banner: false\n",
        "---"
      ],
      "id": "d9459d15"
    },
    {
      "cell_type": "code",
      "metadata": {},
      "source": [
        "from rich.console import Console\n",
        "console = Console()\n",
        "console.print(\n",
        "    \":man_facepalming: Good grief, this page is not available! Try another link?\"\n",
        ")"
      ],
      "id": "2986e200",
      "execution_count": null,
      "outputs": []
    },
    {
      "cell_type": "markdown",
      "metadata": {},
      "source": [
        "The page that you were looking for is not available on the [Developer Developer\n",
        "site](https://www.developerdevelopment.com/). Please use the menu at the top of\n",
        "the page to find an available resource!"
      ],
      "id": "8627f24b"
    }
  ],
  "metadata": {
    "kernelspec": {
      "display_name": "Python 3",
      "language": "python",
      "name": "python3"
    }
  },
  "nbformat": 4,
  "nbformat_minor": 5
}